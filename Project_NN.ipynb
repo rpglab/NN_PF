{
 "cells": [
  {
   "cell_type": "code",
   "execution_count": 42,
   "metadata": {},
   "outputs": [],
   "source": [
    "import csv\n",
    "import numpy as np\n",
    "import torch\n",
    "import torch.nn as nn\n",
    "import torch.nn.functional as F \n",
    "import torch.optim as optim\n",
    "import matplotlib.pyplot as plt"
   ]
  },
  {
   "cell_type": "code",
   "execution_count": 43,
   "metadata": {},
   "outputs": [],
   "source": [
    "sample = 10000\n",
    "bus = 9\n",
    "ref_bus = 0\n",
    "\n",
    "# Load data from csv into variables\n",
    "with open('data_x_%d.csv' %bus) as xcvs:\n",
    "    readCSV = csv.reader(xcvs, delimiter=',')\n",
    "    data_x = np.ones([bus*3,sample])\n",
    "    i = 0\n",
    "    for row in readCSV:\n",
    "        data_x[i,:] = row\n",
    "        i = i+1\n",
    "        \n",
    "with open('data_y_%d.csv' %bus) as ycvs:\n",
    "    readCSV = csv.reader(ycvs, delimiter=',')\n",
    "    data_y = np.ones([bus*2,sample])\n",
    "    i = 0\n",
    "    for row in readCSV:\n",
    "        data_y[i,:] = row\n",
    "        i = i+1        \n",
    "        \n",
    "device = torch.device(\"cuda:0\" if torch.cuda.is_available() else \"cpu\")   "
   ]
  },
  {
   "cell_type": "code",
   "execution_count": 44,
   "metadata": {},
   "outputs": [],
   "source": [
    "# Normalize the data into range between -1 and 1\n",
    "\n",
    "# def normalize(data):\n",
    "#     x , y , z = data.shape\n",
    "#     max_val = torch.reshape(torch.amax(torch.abs(data),1),(x,1,z))\n",
    "#     norm = torch.divide(data,max_val)\n",
    "#     norm = norm.reshape(-1,y*z)      #Reshape data into shape (sample, bus*column)\n",
    "#     return norm, max_val\n",
    "\n",
    "def normalize(data):\n",
    "    mean_val = torch.mean(data,0,keepdim=True)\n",
    "    std_val  = torch.std(data,0,keepdim=True)\n",
    "    norm = data  - mean_val / std_val\n",
    "    return norm, mean_val, std_val"
   ]
  },
  {
   "cell_type": "code",
   "execution_count": 47,
   "metadata": {},
   "outputs": [],
   "source": [
    "# Separate generate data into  training, val, test data set\n",
    "lenx , sample = data_x.shape\n",
    "leny , sample = data_y.shape\n",
    "num1 = int(0.8*sample)\n",
    "num2 = int(0.1*sample)\n",
    "\n",
    "train_x = torch.Tensor(data_x[:,0:num1]).transpose(0, 1)\n",
    "val_x   = torch.Tensor(data_x[:,num1:(num1+num2)]).transpose(0, 1)\n",
    "test_x  = torch.Tensor(data_x[:,(num1+num2):sample]).transpose(0, 1)\n",
    "\n",
    "train_y = torch.Tensor(data_y[:,0:num1]).transpose(0, 1)\n",
    "val_y   = torch.Tensor(data_y[:,num1:(num1+num2)]).transpose(0, 1)\n",
    "test_y  = torch.Tensor(data_y[:,(num1+num2):sample]).transpose(0, 1)\n",
    "\n",
    "train_x, mean_x, std_x = normalize(train_x)\n",
    "train_y, mean_y, std_y = normalize(train_y)\n",
    "\n",
    "val_x = val_x - mean_x / std_x\n",
    "val_y = val_y - mean_y / std_y\n",
    "\n",
    "test_x = test_x - mean_x / std_x\n",
    "test_y = test_y - mean_y / std_y"
   ]
  },
  {
   "cell_type": "code",
   "execution_count": 48,
   "metadata": {},
   "outputs": [],
   "source": [
    "Reshape the data set into correct size\n",
    "train_x = train_x.reshape(num1,int(lenx/bus),bus).to(device)   \n",
    "train_x = train_x.transpose(1,2)\n",
    "val_x   = val_x.reshape(num2,int(lenx/bus),bus).to(device)   \n",
    "val_x   = val_x.transpose(1,2)\n",
    "test_x  = test_x.reshape(num2,int(lenx/bus),bus).to(device)   \n",
    "test_x  = test_x.transpose(1,2)\n",
    "\n",
    "\n",
    "train_y = train_y.reshape(num1,int(leny/bus),bus).to(device)   \n",
    "train_y = train_y.transpose(1,2)\n",
    "val_y   = val_y.reshape(num2,int(leny/bus),bus).to(device)   \n",
    "val_y   = val_y.transpose(1,2)\n",
    "test_y  = test_y.reshape(num2,int(leny/bus),bus).to(device)   \n",
    "test_y  = test_y.transpose(1,2)"
   ]
  },
  {
   "cell_type": "code",
   "execution_count": 52,
   "metadata": {},
   "outputs": [
    {
     "name": "stdout",
     "output_type": "stream",
     "text": [
      "torch.Size([1000, 9, 3])\n"
     ]
    }
   ],
   "source": [
    "print(val_x.shape)"
   ]
  },
  {
   "cell_type": "code",
   "execution_count": 49,
   "metadata": {},
   "outputs": [],
   "source": [
    "# Training model\n",
    "\n",
    "class PowerFlow(nn.Module):\n",
    "    def __init__(self):\n",
    "        super(PowerFlow,self).__init__()\n",
    "        #layer definitions\n",
    "        self.FC1   = nn.Linear(bus*3,500)\n",
    "        self.FC2   = nn.Linear(500,100)\n",
    "        self.FC3   = nn.Linear(100,50)\n",
    "        self.FC4   = nn.Linear(50,bus*2)\n",
    "        self.act   = nn.LeakyReLU(0.3)\n",
    "\n",
    "    def forward(self, x):\n",
    "        x = self.act(self.FC1(x))\n",
    "        x = self.act(self.FC2(x))\n",
    "        x = self.act(self.FC3(x))\n",
    "        x = self.FC4(x)\n",
    "        return x\n",
    "    \n",
    "# Loss function\n",
    "def MSE(ypred,ytrue):\n",
    "    loss = nn.MSELoss()\n",
    "#     loss = nn.L1Loss()\n",
    "    return loss(ypred,ytrue)\n",
    "\n",
    "def mean_error(ypred,ytrue,ref):\n",
    "    error = torch.abs(ypred - ytrue) / torch.abs(ytrue)\n",
    "    error[ytrue == 0] = torch.abs(ypred[ytrue == 0])\n",
    "    mean_error = torch.mean(error)*100\n",
    "    return mean_error.detach().cpu().numpy()\n",
    "    "
   ]
  },
  {
   "cell_type": "code",
   "execution_count": 50,
   "metadata": {},
   "outputs": [
    {
     "ename": "RuntimeError",
     "evalue": "mat1 dim 1 must match mat2 dim 0",
     "output_type": "error",
     "traceback": [
      "\u001b[1;31m---------------------------------------------------------------------------\u001b[0m",
      "\u001b[1;31mRuntimeError\u001b[0m                              Traceback (most recent call last)",
      "\u001b[1;32m<ipython-input-50-94dbfc74ab5d>\u001b[0m in \u001b[0;36m<module>\u001b[1;34m\u001b[0m\n\u001b[0;32m     33\u001b[0m \u001b[1;33m\u001b[0m\u001b[0m\n\u001b[0;32m     34\u001b[0m         \u001b[1;31m# Forward + backward + optimize\u001b[0m\u001b[1;33m\u001b[0m\u001b[1;33m\u001b[0m\u001b[1;33m\u001b[0m\u001b[0m\n\u001b[1;32m---> 35\u001b[1;33m         \u001b[0mY_pred\u001b[0m \u001b[1;33m=\u001b[0m \u001b[0mCNNPF\u001b[0m\u001b[1;33m(\u001b[0m\u001b[0mX\u001b[0m\u001b[1;33m)\u001b[0m\u001b[1;33m\u001b[0m\u001b[1;33m\u001b[0m\u001b[0m\n\u001b[0m\u001b[0;32m     36\u001b[0m         \u001b[0mloss\u001b[0m \u001b[1;33m=\u001b[0m \u001b[0mMSE\u001b[0m\u001b[1;33m(\u001b[0m\u001b[0mY_pred\u001b[0m\u001b[1;33m,\u001b[0m\u001b[0mY\u001b[0m\u001b[1;33m)\u001b[0m\u001b[1;33m\u001b[0m\u001b[1;33m\u001b[0m\u001b[0m\n\u001b[0;32m     37\u001b[0m         \u001b[0mloss\u001b[0m\u001b[1;33m.\u001b[0m\u001b[0mbackward\u001b[0m\u001b[1;33m(\u001b[0m\u001b[1;33m)\u001b[0m\u001b[1;33m\u001b[0m\u001b[1;33m\u001b[0m\u001b[0m\n",
      "\u001b[1;32mC:\\ProgramData\\Anaconda3\\lib\\site-packages\\torch\\nn\\modules\\module.py\u001b[0m in \u001b[0;36m_call_impl\u001b[1;34m(self, *input, **kwargs)\u001b[0m\n\u001b[0;32m    725\u001b[0m             \u001b[0mresult\u001b[0m \u001b[1;33m=\u001b[0m \u001b[0mself\u001b[0m\u001b[1;33m.\u001b[0m\u001b[0m_slow_forward\u001b[0m\u001b[1;33m(\u001b[0m\u001b[1;33m*\u001b[0m\u001b[0minput\u001b[0m\u001b[1;33m,\u001b[0m \u001b[1;33m**\u001b[0m\u001b[0mkwargs\u001b[0m\u001b[1;33m)\u001b[0m\u001b[1;33m\u001b[0m\u001b[1;33m\u001b[0m\u001b[0m\n\u001b[0;32m    726\u001b[0m         \u001b[1;32melse\u001b[0m\u001b[1;33m:\u001b[0m\u001b[1;33m\u001b[0m\u001b[1;33m\u001b[0m\u001b[0m\n\u001b[1;32m--> 727\u001b[1;33m             \u001b[0mresult\u001b[0m \u001b[1;33m=\u001b[0m \u001b[0mself\u001b[0m\u001b[1;33m.\u001b[0m\u001b[0mforward\u001b[0m\u001b[1;33m(\u001b[0m\u001b[1;33m*\u001b[0m\u001b[0minput\u001b[0m\u001b[1;33m,\u001b[0m \u001b[1;33m**\u001b[0m\u001b[0mkwargs\u001b[0m\u001b[1;33m)\u001b[0m\u001b[1;33m\u001b[0m\u001b[1;33m\u001b[0m\u001b[0m\n\u001b[0m\u001b[0;32m    728\u001b[0m         for hook in itertools.chain(\n\u001b[0;32m    729\u001b[0m                 \u001b[0m_global_forward_hooks\u001b[0m\u001b[1;33m.\u001b[0m\u001b[0mvalues\u001b[0m\u001b[1;33m(\u001b[0m\u001b[1;33m)\u001b[0m\u001b[1;33m,\u001b[0m\u001b[1;33m\u001b[0m\u001b[1;33m\u001b[0m\u001b[0m\n",
      "\u001b[1;32m<ipython-input-49-e4e1153ee559>\u001b[0m in \u001b[0;36mforward\u001b[1;34m(self, x)\u001b[0m\n\u001b[0;32m     12\u001b[0m \u001b[1;33m\u001b[0m\u001b[0m\n\u001b[0;32m     13\u001b[0m     \u001b[1;32mdef\u001b[0m \u001b[0mforward\u001b[0m\u001b[1;33m(\u001b[0m\u001b[0mself\u001b[0m\u001b[1;33m,\u001b[0m \u001b[0mx\u001b[0m\u001b[1;33m)\u001b[0m\u001b[1;33m:\u001b[0m\u001b[1;33m\u001b[0m\u001b[1;33m\u001b[0m\u001b[0m\n\u001b[1;32m---> 14\u001b[1;33m         \u001b[0mx\u001b[0m \u001b[1;33m=\u001b[0m \u001b[0mself\u001b[0m\u001b[1;33m.\u001b[0m\u001b[0mact\u001b[0m\u001b[1;33m(\u001b[0m\u001b[0mself\u001b[0m\u001b[1;33m.\u001b[0m\u001b[0mFC1\u001b[0m\u001b[1;33m(\u001b[0m\u001b[0mx\u001b[0m\u001b[1;33m)\u001b[0m\u001b[1;33m)\u001b[0m\u001b[1;33m\u001b[0m\u001b[1;33m\u001b[0m\u001b[0m\n\u001b[0m\u001b[0;32m     15\u001b[0m         \u001b[0mx\u001b[0m \u001b[1;33m=\u001b[0m \u001b[0mself\u001b[0m\u001b[1;33m.\u001b[0m\u001b[0mact\u001b[0m\u001b[1;33m(\u001b[0m\u001b[0mself\u001b[0m\u001b[1;33m.\u001b[0m\u001b[0mFC2\u001b[0m\u001b[1;33m(\u001b[0m\u001b[0mx\u001b[0m\u001b[1;33m)\u001b[0m\u001b[1;33m)\u001b[0m\u001b[1;33m\u001b[0m\u001b[1;33m\u001b[0m\u001b[0m\n\u001b[0;32m     16\u001b[0m         \u001b[0mx\u001b[0m \u001b[1;33m=\u001b[0m \u001b[0mself\u001b[0m\u001b[1;33m.\u001b[0m\u001b[0mact\u001b[0m\u001b[1;33m(\u001b[0m\u001b[0mself\u001b[0m\u001b[1;33m.\u001b[0m\u001b[0mFC3\u001b[0m\u001b[1;33m(\u001b[0m\u001b[0mx\u001b[0m\u001b[1;33m)\u001b[0m\u001b[1;33m)\u001b[0m\u001b[1;33m\u001b[0m\u001b[1;33m\u001b[0m\u001b[0m\n",
      "\u001b[1;32mC:\\ProgramData\\Anaconda3\\lib\\site-packages\\torch\\nn\\modules\\module.py\u001b[0m in \u001b[0;36m_call_impl\u001b[1;34m(self, *input, **kwargs)\u001b[0m\n\u001b[0;32m    725\u001b[0m             \u001b[0mresult\u001b[0m \u001b[1;33m=\u001b[0m \u001b[0mself\u001b[0m\u001b[1;33m.\u001b[0m\u001b[0m_slow_forward\u001b[0m\u001b[1;33m(\u001b[0m\u001b[1;33m*\u001b[0m\u001b[0minput\u001b[0m\u001b[1;33m,\u001b[0m \u001b[1;33m**\u001b[0m\u001b[0mkwargs\u001b[0m\u001b[1;33m)\u001b[0m\u001b[1;33m\u001b[0m\u001b[1;33m\u001b[0m\u001b[0m\n\u001b[0;32m    726\u001b[0m         \u001b[1;32melse\u001b[0m\u001b[1;33m:\u001b[0m\u001b[1;33m\u001b[0m\u001b[1;33m\u001b[0m\u001b[0m\n\u001b[1;32m--> 727\u001b[1;33m             \u001b[0mresult\u001b[0m \u001b[1;33m=\u001b[0m \u001b[0mself\u001b[0m\u001b[1;33m.\u001b[0m\u001b[0mforward\u001b[0m\u001b[1;33m(\u001b[0m\u001b[1;33m*\u001b[0m\u001b[0minput\u001b[0m\u001b[1;33m,\u001b[0m \u001b[1;33m**\u001b[0m\u001b[0mkwargs\u001b[0m\u001b[1;33m)\u001b[0m\u001b[1;33m\u001b[0m\u001b[1;33m\u001b[0m\u001b[0m\n\u001b[0m\u001b[0;32m    728\u001b[0m         for hook in itertools.chain(\n\u001b[0;32m    729\u001b[0m                 \u001b[0m_global_forward_hooks\u001b[0m\u001b[1;33m.\u001b[0m\u001b[0mvalues\u001b[0m\u001b[1;33m(\u001b[0m\u001b[1;33m)\u001b[0m\u001b[1;33m,\u001b[0m\u001b[1;33m\u001b[0m\u001b[1;33m\u001b[0m\u001b[0m\n",
      "\u001b[1;32mC:\\ProgramData\\Anaconda3\\lib\\site-packages\\torch\\nn\\modules\\linear.py\u001b[0m in \u001b[0;36mforward\u001b[1;34m(self, input)\u001b[0m\n\u001b[0;32m     91\u001b[0m \u001b[1;33m\u001b[0m\u001b[0m\n\u001b[0;32m     92\u001b[0m     \u001b[1;32mdef\u001b[0m \u001b[0mforward\u001b[0m\u001b[1;33m(\u001b[0m\u001b[0mself\u001b[0m\u001b[1;33m,\u001b[0m \u001b[0minput\u001b[0m\u001b[1;33m:\u001b[0m \u001b[0mTensor\u001b[0m\u001b[1;33m)\u001b[0m \u001b[1;33m->\u001b[0m \u001b[0mTensor\u001b[0m\u001b[1;33m:\u001b[0m\u001b[1;33m\u001b[0m\u001b[1;33m\u001b[0m\u001b[0m\n\u001b[1;32m---> 93\u001b[1;33m         \u001b[1;32mreturn\u001b[0m \u001b[0mF\u001b[0m\u001b[1;33m.\u001b[0m\u001b[0mlinear\u001b[0m\u001b[1;33m(\u001b[0m\u001b[0minput\u001b[0m\u001b[1;33m,\u001b[0m \u001b[0mself\u001b[0m\u001b[1;33m.\u001b[0m\u001b[0mweight\u001b[0m\u001b[1;33m,\u001b[0m \u001b[0mself\u001b[0m\u001b[1;33m.\u001b[0m\u001b[0mbias\u001b[0m\u001b[1;33m)\u001b[0m\u001b[1;33m\u001b[0m\u001b[1;33m\u001b[0m\u001b[0m\n\u001b[0m\u001b[0;32m     94\u001b[0m \u001b[1;33m\u001b[0m\u001b[0m\n\u001b[0;32m     95\u001b[0m     \u001b[1;32mdef\u001b[0m \u001b[0mextra_repr\u001b[0m\u001b[1;33m(\u001b[0m\u001b[0mself\u001b[0m\u001b[1;33m)\u001b[0m \u001b[1;33m->\u001b[0m \u001b[0mstr\u001b[0m\u001b[1;33m:\u001b[0m\u001b[1;33m\u001b[0m\u001b[1;33m\u001b[0m\u001b[0m\n",
      "\u001b[1;32mC:\\ProgramData\\Anaconda3\\lib\\site-packages\\torch\\nn\\functional.py\u001b[0m in \u001b[0;36mlinear\u001b[1;34m(input, weight, bias)\u001b[0m\n\u001b[0;32m   1690\u001b[0m         \u001b[0mret\u001b[0m \u001b[1;33m=\u001b[0m \u001b[0mtorch\u001b[0m\u001b[1;33m.\u001b[0m\u001b[0maddmm\u001b[0m\u001b[1;33m(\u001b[0m\u001b[0mbias\u001b[0m\u001b[1;33m,\u001b[0m \u001b[0minput\u001b[0m\u001b[1;33m,\u001b[0m \u001b[0mweight\u001b[0m\u001b[1;33m.\u001b[0m\u001b[0mt\u001b[0m\u001b[1;33m(\u001b[0m\u001b[1;33m)\u001b[0m\u001b[1;33m)\u001b[0m\u001b[1;33m\u001b[0m\u001b[1;33m\u001b[0m\u001b[0m\n\u001b[0;32m   1691\u001b[0m     \u001b[1;32melse\u001b[0m\u001b[1;33m:\u001b[0m\u001b[1;33m\u001b[0m\u001b[1;33m\u001b[0m\u001b[0m\n\u001b[1;32m-> 1692\u001b[1;33m         \u001b[0moutput\u001b[0m \u001b[1;33m=\u001b[0m \u001b[0minput\u001b[0m\u001b[1;33m.\u001b[0m\u001b[0mmatmul\u001b[0m\u001b[1;33m(\u001b[0m\u001b[0mweight\u001b[0m\u001b[1;33m.\u001b[0m\u001b[0mt\u001b[0m\u001b[1;33m(\u001b[0m\u001b[1;33m)\u001b[0m\u001b[1;33m)\u001b[0m\u001b[1;33m\u001b[0m\u001b[1;33m\u001b[0m\u001b[0m\n\u001b[0m\u001b[0;32m   1693\u001b[0m         \u001b[1;32mif\u001b[0m \u001b[0mbias\u001b[0m \u001b[1;32mis\u001b[0m \u001b[1;32mnot\u001b[0m \u001b[1;32mNone\u001b[0m\u001b[1;33m:\u001b[0m\u001b[1;33m\u001b[0m\u001b[1;33m\u001b[0m\u001b[0m\n\u001b[0;32m   1694\u001b[0m             \u001b[0moutput\u001b[0m \u001b[1;33m+=\u001b[0m \u001b[0mbias\u001b[0m\u001b[1;33m\u001b[0m\u001b[1;33m\u001b[0m\u001b[0m\n",
      "\u001b[1;31mRuntimeError\u001b[0m: mat1 dim 1 must match mat2 dim 0"
     ]
    }
   ],
   "source": [
    "# Define training variables\n",
    "\n",
    "CNNPF = PowerFlow().to(device)\n",
    "optimizer = optim.SGD(CNNPF.parameters(), lr=0.0001, momentum=0.7)\n",
    "# optimizer = optim.Adam(CNNPF.parameters(), lr=0.0001, betas=(0.9, 0.999), eps=1e-07, weight_decay=0.1, amsgrad=False)\n",
    "hloss = []\n",
    "train_err = []\n",
    "val_err = []\n",
    "n = 0\n",
    "num_epochs  = 1000\n",
    "batch = 250\n",
    "iter = int(num1/batch)\n",
    "disp = 4\n",
    "\n",
    "# norm_train_x, max_train_x = normalize(train_x)\n",
    "# norm_train_y, max_train_y = normalize(train_y)\n",
    "# norm_val_x,   max_val_x   = normalize(val_x)\n",
    "# norm_val_y,   max_val_y   = normalize(val_y)\n",
    "\n",
    "# Start training\n",
    "CNNPF = CNNPF.train()\n",
    "\n",
    "for epoch in range(num_epochs):\n",
    "    index = np.random.choice(num1, batch*iter, replace=False)\n",
    "    index = np.reshape(index,[iter,batch])\n",
    "    \n",
    "    for i in range(iter):\n",
    "        CNNPF = CNNPF.train()\n",
    "        X = train_x[index[i,:],:]     \n",
    "        Y = train_y[index[i,:],:]\n",
    "        \n",
    "        optimizer.zero_grad()\n",
    "\n",
    "        # Forward + backward + optimize\n",
    "        Y_pred = CNNPF(X)\n",
    "        loss = MSE(Y_pred,Y)\n",
    "        loss.backward()\n",
    "        optimizer.step()\n",
    "        n += 1\n",
    "        \n",
    "    if epoch % disp == 0:\n",
    "    \n",
    "        hloss.append(loss.detach().cpu().numpy()) \n",
    "        CNNPF = CNNPF.eval()\n",
    "        pred_y = CNNPF(val_x).detach()\n",
    "        error = mean_error(pred_y,val_y,ref_bus)\n",
    "        val_err.append(error) \n",
    "\n",
    "        pred_y = CNNPF(train_x).detach()\n",
    "        error = mean_error(pred_y,train_y,ref_bus)\n",
    "        train_err.append(error)        \n",
    "\n",
    "        print(loss.detach().cpu().numpy()) \n"
   ]
  },
  {
   "cell_type": "code",
   "execution_count": 8,
   "metadata": {},
   "outputs": [
    {
     "data": {
      "text/plain": [
       "Text(0.5, 1.0, 'NN - Absolute Error Rate For 24 Bus System')"
      ]
     },
     "execution_count": 8,
     "metadata": {},
     "output_type": "execute_result"
    },
    {
     "data": {
      "image/png": "[encoded data removed]",
      "text/plain": [
       "<Figure size 600x400 with 1 Axes>"
      ]
     },
     "metadata": {
      "needs_background": "light"
     },
     "output_type": "display_data"
    },
    {
     "data": {
      "image/png": "[encoded data removed]",
      "text/plain": [
       "<Figure size 600x400 with 1 Axes>"
      ]
     },
     "metadata": {
      "needs_background": "light"
     },
     "output_type": "display_data"
    }
   ],
   "source": [
    "# Plot the result  \n",
    "plt.figure(dpi=100)       \n",
    "plt.scatter(range(0,num_epochs,disp),hloss)\n",
    "plt.xlabel('Epoch')\n",
    "plt.ylabel('MSE loss')\n",
    "plt.title('NN - MSE Loss For {} Bus System'.format(bus))\n",
    "# plt.savefig(\"NN_Loss_{}.png\".format(bus))\n",
    "\n",
    "plt.figure(dpi=100) \n",
    "# plt.scatter(range(0,num_epochs,disp),train_err, label = \"Training Error\")\n",
    "plt.scatter(range(0,num_epochs,disp),val_err, label = 'Validation Error')\n",
    "plt.legend()\n",
    "plt.xlabel('Epoch')\n",
    "plt.ylabel(\"% Error\")\n",
    "plt.title('NN - Absolute Error Rate For {} Bus System'.format(bus))\n",
    "# plt.savefig(\"NN_Error_{}.png\".format(bus))"
   ]
  },
  {
   "cell_type": "code",
   "execution_count": 9,
   "metadata": {},
   "outputs": [
    {
     "name": "stdout",
     "output_type": "stream",
     "text": [
      "[[ 0.95280343  0.7201213 ]\n",
      " [ 0.95280343  0.7168811 ]\n",
      " [ 0.9660403   0.07641747]\n",
      " [ 0.96399045  0.22845434]\n",
      " [ 0.9765815   0.08269705]\n",
      " [ 1.         -0.5837948 ]\n",
      " [ 0.9435976   1.        ]\n",
      " [ 0.9629278   0.3822438 ]\n",
      " [ 0.97003776 -0.06496414]\n",
      " [ 0.9994372  -0.49106073]\n",
      " [ 0.93498516 -0.07314653]\n",
      " [ 0.956223   -0.2808617 ]\n",
      " [ 0.9389947   0.        ]\n",
      " [ 0.90217143  0.48980516]\n",
      " [ 0.9334713   0.01418441]\n",
      " [ 0.9362329  -0.04012338]\n",
      " [ 0.957879   -0.3869023 ]\n",
      " [ 0.96661216 -0.52204365]\n",
      " [ 0.9512215  -0.26516938]\n",
      " [ 0.9620457  -0.4189554 ]\n",
      " [ 0.96661216 -0.5218681 ]\n",
      " [ 0.96661216 -0.50460416]\n",
      " [ 0.96661216 -0.4808008 ]\n",
      " [ 0.9368264   0.00594307]]\n",
      "[[ 0.93751943  0.01867461]\n",
      " [ 0.9367772  -0.01402988]\n",
      " [ 0.92798907 -0.19816926]\n",
      " [ 0.9268895  -0.24022582]\n",
      " [ 0.95823574 -0.1969245 ]\n",
      " [ 0.96977186 -0.5042447 ]\n",
      " [ 0.92490244  0.38531637]\n",
      " [ 0.9343672   0.05563568]\n",
      " [ 0.9334687  -0.3089561 ]\n",
      " [ 0.9653424  -0.35473418]\n",
      " [ 0.91135776 -0.15352903]\n",
      " [ 0.92543286 -0.20797807]\n",
      " [ 0.9293693   0.01073183]\n",
      " [ 0.8824002   0.06400527]\n",
      " [ 0.92966604 -0.10857379]\n",
      " [ 0.9238827  -0.11822429]\n",
      " [ 0.9456075  -0.22699985]\n",
      " [ 0.9687454  -0.27088365]\n",
      " [ 0.93621916 -0.19781463]\n",
      " [ 0.9455774  -0.24083975]\n",
      " [ 0.9559066  -0.2729479 ]\n",
      " [ 0.95156795 -0.23252752]\n",
      " [ 0.94269925 -0.24987943]\n",
      " [ 0.91880965 -0.14767164]]\n"
     ]
    }
   ],
   "source": [
    "Y = Y.reshape(batch,bus,2)\n",
    "Y_pred = Y_pred.reshape(batch,bus,2)\n",
    "print(Y[8,:].detach().cpu().numpy())\n",
    "print(Y_pred[8,:].detach().cpu().numpy())\n",
    "# print(norm_train_y[7,25].detach().cpu().numpy())"
   ]
  },
  {
   "cell_type": "code",
   "execution_count": 10,
   "metadata": {},
   "outputs": [
    {
     "name": "stdout",
     "output_type": "stream",
     "text": [
      "256.0234\n"
     ]
    }
   ],
   "source": [
    "# Start eval\n",
    "CNNPF = CNNPF.eval()\n",
    "\n",
    "norm_test_x,   max_test_x   = normalize(test_x)\n",
    "norm_test_y,   max_test_y   = normalize(test_y)\n",
    "pred_y = CNNPF(norm_test_x)\n",
    "error = mean_error(pred_y,norm_test_y,ref_bus)\n",
    "print(error)"
   ]
  },
  {
   "cell_type": "code",
   "execution_count": 11,
   "metadata": {},
   "outputs": [
    {
     "name": "stdout",
     "output_type": "stream",
     "text": [
      "tensor([[0.8400, 0.1617, 0.1635, 0.5273, 0.1288],\n",
      "        [0.5270, 0.3845, 0.0700, 0.9484, 0.6107],\n",
      "        [0.4268, 0.9736, 0.7017, 0.4810, 0.9703],\n",
      "        [0.8113, 0.6995, 0.2047, 0.4645, 0.1862],\n",
      "        [0.8805, 0.2911, 0.8557, 0.5731, 0.9856]]) tensor([[1., 1., 1., 1., 1.],\n",
      "        [1., 1., 1., 1., 1.],\n",
      "        [1., 1., 0., 1., 1.],\n",
      "        [1., 1., 1., 1., 0.],\n",
      "        [1., 1., 1., 1., 1.]])\n",
      "tensor([[False, False, False, False, False],\n",
      "        [False, False, False, False, False],\n",
      "        [False, False,  True, False, False],\n",
      "        [False, False, False, False,  True],\n",
      "        [False, False, False, False, False]])\n",
      "tensor(0.9200)\n"
     ]
    }
   ],
   "source": [
    "a = torch.rand(5,5)\n",
    "b = torch.ones(5,5)\n",
    "c = torch.ones(5,5)*3\n",
    "b[2,2] = 0\n",
    "b[3,4] = 0\n",
    "print(a,b)\n",
    "print(b == 0)\n",
    "a[b == 0] = c[b == 0]\n",
    "print(torch.mean(b))\n"
   ]
  },
  {
   "cell_type": "code",
   "execution_count": 12,
   "metadata": {},
   "outputs": [
    {
     "data": {
      "text/plain": [
       "tensor([[1, 1],\n",
       "        [3, 3]])"
      ]
     },
     "execution_count": 12,
     "metadata": {},
     "output_type": "execute_result"
    }
   ],
   "source": [
    "t = torch.tensor([[1,2],[3,4]])\n",
    "torch.gather(t, 1,torch.tensor([[0,0],[0,0]]))"
   ]
  },
  {
   "cell_type": "code",
   "execution_count": 21,
   "metadata": {},
   "outputs": [
    {
     "name": "stdout",
     "output_type": "stream",
     "text": [
      "tensor([[0.3154],\n",
      "        [0.3851],\n",
      "        [0.8070],\n",
      "        [0.3473]])\n",
      "tensor([[0.3167, 0.0791, 0.0440, 0.1489, 0.6184, 0.6854],\n",
      "        [0.1914, 0.3020, 0.4351, 0.9193, 0.3000, 0.1626],\n",
      "        [0.5154, 0.9262, 0.9548, 0.9286, 0.6084, 0.9088],\n",
      "        [0.7483, 0.0415, 0.0668, 0.1923, 0.5501, 0.4845]])\n"
     ]
    }
   ],
   "source": [
    "t = torch.rand(4,6)\n",
    "print(torch.mean(t,1,keepdim=True))\n",
    "print(t)"
   ]
  },
  {
   "cell_type": "code",
   "execution_count": null,
   "metadata": {},
   "outputs": [],
   "source": []
  }
 ],
 "metadata": {
  "kernelspec": {
   "display_name": "Python 3",
   "language": "python",
   "name": "python3"
  },
  "language_info": {
   "codemirror_mode": {
    "name": "ipython",
    "version": 3
   },
   "file_extension": ".py",
   "mimetype": "text/x-python",
   "name": "python",
   "nbconvert_exporter": "python",
   "pygments_lexer": "ipython3",
   "version": "3.8.3"
  }
 },
 "nbformat": 4,
 "nbformat_minor": 4
}
